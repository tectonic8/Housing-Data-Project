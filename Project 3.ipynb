{
 "cells": [
  {
   "cell_type": "code",
   "execution_count": 13,
   "metadata": {
    "collapsed": true
   },
   "outputs": [],
   "source": [
    "import numpy as np\n",
    "import pandas as pd\n",
    "from sklearn.svm import SVC\n",
    "from sklearn.tree import DecisionTreeClassifier\n",
    "from sklearn.linear_model import LogisticRegression\n",
    "from sklearn.metrics import mean_squared_error, accuracy_score\n",
    "from sklearn.model_selection import train_test_split\n",
    "from sklearn.model_selection import LeaveOneOut\n",
    "from sklearn.model_selection import KFold\n",
    "from sklearn.model_selection import cross_val_score\n",
    "\n",
    "from random import randrange\n",
    "\n",
    "housing = pd.read_csv(\"train.csv\")\n",
    "housing.fillna(value=\"NA\", inplace=True)\n",
    "\n",
    "housing[\"LotFrontage\"].replace(to_replace=\"NA\", value=0, inplace=True)\n",
    "housing[\"Reduced SalePrice\"] = housing[\"SalePrice\"] // 50000"
   ]
  },
  {
   "cell_type": "markdown",
   "metadata": {},
   "source": [
    "## Features, Target, and Utilities"
   ]
  },
  {
   "cell_type": "code",
   "execution_count": 2,
   "metadata": {
    "collapsed": true
   },
   "outputs": [],
   "source": [
    "features = [\"YearBuilt\",\"OverallQual\",\"MSSubClass\"]\n",
    "target = \"Reduced SalePrice\"\n",
    "\n",
    "accuracy = lambda x : (x - housing[target]).value_counts()[0] / 1460\n",
    "topct = lambda x : round(x * 100, 2)"
   ]
  },
  {
   "cell_type": "markdown",
   "metadata": {},
   "source": [
    "## Baseline"
   ]
  },
  {
   "cell_type": "code",
   "execution_count": 3,
   "metadata": {},
   "outputs": [
    {
     "name": "stdout",
     "output_type": "stream",
     "text": [
      "Baseline: 0.34315068493150686\n"
     ]
    }
   ],
   "source": [
    "baseline = (housing[target].value_counts()[housing[target].mode()[0]]) / 1460\n",
    "print(f\"Baseline: {baseline}\")"
   ]
  },
  {
   "cell_type": "markdown",
   "metadata": {},
   "source": [
    "# Decision Tree"
   ]
  },
  {
   "cell_type": "code",
   "execution_count": 40,
   "metadata": {},
   "outputs": [
    {
     "name": "stdout",
     "output_type": "stream",
     "text": [
      "Accuracy: 52.88%\n",
      "K-fold cross validation average: 49.72%\n"
     ]
    }
   ],
   "source": [
    "# Create our sample set.\n",
    "decision_tree_sample = housing.sample(randrange(0, 1460))\n",
    "\n",
    "# Create our features and our target.\n",
    "dtree_features = decision_tree_sample[features]\n",
    "dtree_target = decision_tree_sample[target]\n",
    "\n",
    "# Create the decision tree and predict.\n",
    "dtree = DecisionTreeClassifier()\n",
    "dtree.fit(dtree_features, dtree_target)\n",
    "pred1 = dtree.predict(housing[features])\n",
    "\n",
    "# Score accuracy and print.\n",
    "acc = accuracy(pred1)\n",
    "pct = topct(acc)\n",
    "print(f\"Accuracy: {pct}%\")\n",
    "\n",
    "# K-fold cross validation.\n",
    "kfold = KFold(n_splits=50, random_state=45)\n",
    "results = cross_val_score(dtree, housing[features], housing[target], cv=kfold)\n",
    "results = topct(results.mean())\n",
    "print(f\"K-fold cross validation average: {results}%\")"
   ]
  },
  {
   "cell_type": "markdown",
   "metadata": {
    "collapsed": true
   },
   "source": [
    "# SVM"
   ]
  },
  {
   "cell_type": "code",
   "execution_count": 37,
   "metadata": {},
   "outputs": [
    {
     "name": "stdout",
     "output_type": "stream",
     "text": [
      "Accuracy: 61.37%\n",
      "K-fold cross validation average: 50.49%\n"
     ]
    }
   ],
   "source": [
    "svm_sample = housing.sample(randrange(0, 1460))\n",
    "\n",
    "svm_features = svm_sample[features]\n",
    "svm_target = svm_sample[target]\n",
    "\n",
    "svc = SVC()\n",
    "svc.fit(svm_features, svm_target)\n",
    "pred2 = svc.predict(housing[features])\n",
    "\n",
    "acc = accuracy(pred2)\n",
    "pct = topct(acc)\n",
    "print(f\"Accuracy: {pct}%\")\n",
    "\n",
    "# K-fold cross validation.\n",
    "kfold = KFold(n_splits=50, random_state=12)\n",
    "results = cross_val_score(svc, housing[features], housing[target], cv=kfold)\n",
    "results = topct(results.mean())\n",
    "print(f\"K-fold cross validation average: {results}%\")"
   ]
  },
  {
   "cell_type": "markdown",
   "metadata": {},
   "source": [
    "# Logistic regression "
   ]
  },
  {
   "cell_type": "code",
   "execution_count": 23,
   "metadata": {},
   "outputs": [
    {
     "name": "stdout",
     "output_type": "stream",
     "text": [
      "Accuracy: 44.73%\n",
      "Leave P Out cross validation average: 42.67%\n"
     ]
    }
   ],
   "source": [
    "logistic_regression_sample = housing.sample(randrange(0,1460))\n",
    "\n",
    "logistic_regression_features = logistic_regression_sample[features]\n",
    "logistic_regression_target = logistic_regression_sample[target]\n",
    "\n",
    "model = LogisticRegression()\n",
    "model.fit(logistic_regression_features,logistic_regression_target)\n",
    "pred3 = model.predict(housing[features])\n",
    "\n",
    "acc = accuracy(pred3)\n",
    "pct = topct(acc)\n",
    "print(f\"Accuracy: {pct}%\")\n",
    "\n",
    "loo = LeaveOneOut()\n",
    "#Give this a moment.\n",
    "results = cross_val_score(model, housing[features], housing[target], cv = loo) \n",
    "results = topct(results.mean())\n",
    "print(f\"Leave P Out cross validation average: {results}%\")"
   ]
  },
  {
   "cell_type": "code",
   "execution_count": 41,
   "metadata": {},
   "outputs": [
    {
     "name": "stdout",
     "output_type": "stream",
     "text": [
      "Bagging Accuracy: 55.21%\n"
     ]
    }
   ],
   "source": [
    "models_predict = pd.DataFrame({'pred1':pred1, 'pred2':pred2, 'pred3':pred3})\n",
    "pred4 = (models_predict.mode(axis=1)[0]).values\n",
    "acc = accuracy(pred4)\n",
    "pct = topct(acc)\n",
    "print(f\"Bagging Accuracy: {pct}%\")"
   ]
  },
  {
   "cell_type": "code",
   "execution_count": null,
   "metadata": {
    "collapsed": true
   },
   "outputs": [],
   "source": []
  }
 ],
 "metadata": {
  "kernelspec": {
   "display_name": "Python 3",
   "language": "python",
   "name": "python3"
  },
  "language_info": {
   "codemirror_mode": {
    "name": "ipython",
    "version": 3
   },
   "file_extension": ".py",
   "mimetype": "text/x-python",
   "name": "python",
   "nbconvert_exporter": "python",
   "pygments_lexer": "ipython3",
   "version": "3.6.1"
  }
 },
 "nbformat": 4,
 "nbformat_minor": 2
}
