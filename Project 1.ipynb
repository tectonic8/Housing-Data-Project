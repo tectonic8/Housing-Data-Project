{
 "cells": [
  {
   "cell_type": "code",
   "execution_count": 11,
   "metadata": {
    "collapsed": true,
    "scrolled": true
   },
   "outputs": [],
   "source": [
    "import numpy as np\n",
    "import pandas as pd\n",
    "from sklearn.svm import SVC\n",
    "from sklearn.tree import DecisionTreeClassifier\n",
    "from sklearn.linear_model import LogisticRegression\n",
    "from sklearn.metrics import mean_squared_error, accuracy_score\n",
    "from sklearn.model_selection import train_test_split\n",
    "\n",
    "housing = pd.read_csv(\"train.csv\")"
   ]
  },
  {
   "cell_type": "code",
   "execution_count": 3,
   "metadata": {
    "collapsed": true,
    "scrolled": true
   },
   "outputs": [],
   "source": [
    "housing.fillna(value=\"NA\", inplace=True)\n",
    "housing[\"LotFrontage\"].replace(to_replace=\"NA\", value=0, inplace=True)"
   ]
  },
  {
   "cell_type": "code",
   "execution_count": 4,
   "metadata": {
    "collapsed": true
   },
   "outputs": [],
   "source": [
    "def train_model_splits_and_print(func):\n",
    "    print(f\"Function = {func.__name__}\")\n",
    "    for i, split in enumerate(np.arange(0.5, 1, 0.1)):\n",
    "        acc = func(train_size=split)\n",
    "        print(f\"\"\"----------------------------\n",
    "Split {i+1}\n",
    "Train Split: {round(split, 2)}\n",
    "Test Split:  {round(1-split, 2)}\n",
    "Accuracy:    {round(acc*100, 2)}%\n",
    "----------------------------\n",
    "\"\"\")"
   ]
  },
  {
   "cell_type": "markdown",
   "metadata": {},
   "source": [
    "# Logistic Regression"
   ]
  },
  {
   "cell_type": "code",
   "execution_count": 5,
   "metadata": {
    "collapsed": true
   },
   "outputs": [],
   "source": [
    "feature = housing[[\"SalePrice\", \"1stFlrSF\"]]\n",
    "def train_logistic_regression(train_size=0.5):\n",
    "    train_features, valid_features, train_target, valid_target = train_test_split(feature,\n",
    "                                                                                  housing[\"OverallQual\"],\n",
    "                                                                                  test_size=(1 - train_size))\n",
    "    \n",
    "    model = LogisticRegression()\n",
    "    model = model.fit(X=train_features, y=train_target)\n",
    "    predictions = model.predict(X=valid_features)\n",
    "    predictions = predictions > 5\n",
    "    valid_target = valid_target > 5\n",
    "    \n",
    "    qualAboveAverage = housing['OverallQual'] > 5\n",
    "    baseline = max(qualAboveAverage.value_counts())/len(housing['OverallQual'])\n",
    "    acc = accuracy_score(valid_target, predictions)\n",
    "\n",
    "    return acc"
   ]
  },
  {
   "cell_type": "code",
   "execution_count": 6,
   "metadata": {
    "scrolled": false
   },
   "outputs": [
    {
     "name": "stdout",
     "output_type": "stream",
     "text": [
      "Function = train_logistic_regression\n",
      "----------------------------\n",
      "Split 1\n",
      "Train Split: 0.5\n",
      "Test Split:  0.5\n",
      "Accuracy:    71.37%\n",
      "----------------------------\n",
      "\n",
      "----------------------------\n",
      "Split 2\n",
      "Train Split: 0.6\n",
      "Test Split:  0.4\n",
      "Accuracy:    72.95%\n",
      "----------------------------\n",
      "\n",
      "----------------------------\n",
      "Split 3\n",
      "Train Split: 0.7\n",
      "Test Split:  0.3\n",
      "Accuracy:    67.88%\n",
      "----------------------------\n",
      "\n",
      "----------------------------\n",
      "Split 4\n",
      "Train Split: 0.8\n",
      "Test Split:  0.2\n",
      "Accuracy:    70.99%\n",
      "----------------------------\n",
      "\n",
      "----------------------------\n",
      "Split 5\n",
      "Train Split: 0.9\n",
      "Test Split:  0.1\n",
      "Accuracy:    68.71%\n",
      "----------------------------\n",
      "\n"
     ]
    }
   ],
   "source": [
    "train_model_splits_and_print(train_logistic_regression)"
   ]
  },
  {
   "cell_type": "markdown",
   "metadata": {},
   "source": [
    "# SVM"
   ]
  },
  {
   "cell_type": "code",
   "execution_count": 7,
   "metadata": {
    "collapsed": true
   },
   "outputs": [],
   "source": [
    "feature = housing[[\"MSSubClass\"]]\n",
    "def train_svm(train_size=0.5):\n",
    "    hstyle = housing[\"HouseStyle\"].astype(\"category\").cat.codes\n",
    "    train_features, valid_features, train_target, valid_target = train_test_split(feature,\n",
    "                                                                                  hstyle,\n",
    "                                                                                  test_size=(1 - train_size))\n",
    "    \n",
    "    svc = SVC()\n",
    "    svc.fit(train_features, train_target)\n",
    "    pred = svc.predict(valid_features)\n",
    "    \n",
    "    baseline = max(hstyle.value_counts() / len(hstyle))\n",
    "    acc = accuracy_score(valid_target, pred)\n",
    "    return (acc - baseline) / baseline"
   ]
  },
  {
   "cell_type": "code",
   "execution_count": 8,
   "metadata": {},
   "outputs": [
    {
     "name": "stdout",
     "output_type": "stream",
     "text": [
      "Function = train_svm\n",
      "----------------------------\n",
      "Split 1\n",
      "Train Split: 0.5\n",
      "Test Split:  0.5\n",
      "Accuracy:    91.46%\n",
      "----------------------------\n",
      "\n",
      "----------------------------\n",
      "Split 2\n",
      "Train Split: 0.6\n",
      "Test Split:  0.4\n",
      "Accuracy:    90.43%\n",
      "----------------------------\n",
      "\n",
      "----------------------------\n",
      "Split 3\n",
      "Train Split: 0.7\n",
      "Test Split:  0.3\n",
      "Accuracy:    92.4%\n",
      "----------------------------\n",
      "\n",
      "----------------------------\n",
      "Split 4\n",
      "Train Split: 0.8\n",
      "Test Split:  0.2\n",
      "Accuracy:    92.87%\n",
      "----------------------------\n",
      "\n",
      "----------------------------\n",
      "Split 5\n",
      "Train Split: 0.9\n",
      "Test Split:  0.1\n",
      "Accuracy:    94.26%\n",
      "----------------------------\n",
      "\n"
     ]
    }
   ],
   "source": [
    "train_model_splits_and_print(train_svm)"
   ]
  },
  {
   "cell_type": "markdown",
   "metadata": {},
   "source": [
    "# Decision Tree"
   ]
  },
  {
   "cell_type": "code",
   "execution_count": 9,
   "metadata": {
    "collapsed": true
   },
   "outputs": [],
   "source": [
    "feature = housing[[\"YearBuilt\",\"SalePrice\",\"MSSubClass\"]]\n",
    "def train_decision_tree(train_size=0.5):\n",
    "    train_features, valid_features, train_target, valid_target = train_test_split(feature,\n",
    "                                                                                  housing[\"Neighborhood\"],\n",
    "                                                                                  test_size=(1 - train_size))\n",
    "\n",
    "    dTree = DecisionTreeClassifier(max_leaf_nodes=15)\n",
    "    dTree.fit(train_features, train_target)\n",
    "    pred = dTree.predict(valid_features)\n",
    "\n",
    "    baseline = 225 / len(housing)\n",
    "    acc = accuracy_score(y_true=valid_target, y_pred=pred)\n",
    "    \n",
    "    return (acc - baseline) / baseline"
   ]
  },
  {
   "cell_type": "code",
   "execution_count": 10,
   "metadata": {},
   "outputs": [
    {
     "name": "stdout",
     "output_type": "stream",
     "text": [
      "Function = train_decision_tree\n",
      "----------------------------\n",
      "Split 1\n",
      "Train Split: 0.5\n",
      "Test Split:  0.5\n",
      "Accuracy:    140.89%\n",
      "----------------------------\n",
      "\n",
      "----------------------------\n",
      "Split 2\n",
      "Train Split: 0.6\n",
      "Test Split:  0.4\n",
      "Accuracy:    176.67%\n",
      "----------------------------\n",
      "\n",
      "----------------------------\n",
      "Split 3\n",
      "Train Split: 0.7\n",
      "Test Split:  0.3\n",
      "Accuracy:    164.58%\n",
      "----------------------------\n",
      "\n",
      "----------------------------\n",
      "Split 4\n",
      "Train Split: 0.8\n",
      "Test Split:  0.2\n",
      "Accuracy:    150.25%\n",
      "----------------------------\n",
      "\n",
      "----------------------------\n",
      "Split 5\n",
      "Train Split: 0.9\n",
      "Test Split:  0.1\n",
      "Accuracy:    213.41%\n",
      "----------------------------\n",
      "\n"
     ]
    }
   ],
   "source": [
    "train_model_splits_and_print(train_decision_tree)"
   ]
  },
  {
   "cell_type": "code",
   "execution_count": null,
   "metadata": {
    "collapsed": true
   },
   "outputs": [],
   "source": []
  },
  {
   "cell_type": "code",
   "execution_count": null,
   "metadata": {
    "collapsed": true
   },
   "outputs": [],
   "source": []
  }
 ],
 "metadata": {
  "kernelspec": {
   "display_name": "Python 3",
   "language": "python",
   "name": "python3"
  },
  "language_info": {
   "codemirror_mode": {
    "name": "ipython",
    "version": 3
   },
   "file_extension": ".py",
   "mimetype": "text/x-python",
   "name": "python",
   "nbconvert_exporter": "python",
   "pygments_lexer": "ipython3",
   "version": "3.6.1"
  }
 },
 "nbformat": 4,
 "nbformat_minor": 2
}
